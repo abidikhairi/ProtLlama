{
 "cells": [
  {
   "cell_type": "code",
   "execution_count": 1,
   "id": "64f23363-d2e1-4937-aca9-d4bf3179a29d",
   "metadata": {},
   "outputs": [
    {
     "name": "stdout",
     "output_type": "stream",
     "text": [
      "embeddings_vis.png\t     processed_03.tsv\n",
      "encoder_training_data.tsv    protein_sequences.txt\n",
      "encoder_validation_data.tsv  raw_dataset_01.tsv\n",
      "gene_ontology\t\t     raw_testset.tsv\n",
      "go_terms.txt\t\t     sequences.txt\n",
      "NOTES.txt\t\t     uniprotkb_AND_reviewed_true_2023_12_23.tsv\n",
      "processed_01.tsv\t     uniprotkb_sequence_and_go_terms.tsv\n",
      "processed_02.tsv\t     uniprotkb_sequence_AND_superkingdom.tsv\n"
     ]
    }
   ],
   "source": [
    "!ls ../data/uniprot"
   ]
  },
  {
   "cell_type": "code",
   "execution_count": 4,
   "id": "9623f60a-d346-4927-af3b-07278730ba58",
   "metadata": {},
   "outputs": [],
   "source": [
    "import pandas as pd\n",
    "from tqdm.notebook import tqdm"
   ]
  },
  {
   "cell_type": "code",
   "execution_count": 5,
   "id": "8fc583cd-185e-478a-bc54-3316fd086fe2",
   "metadata": {},
   "outputs": [
    {
     "data": {
      "text/html": [
       "<div>\n",
       "<style scoped>\n",
       "    .dataframe tbody tr th:only-of-type {\n",
       "        vertical-align: middle;\n",
       "    }\n",
       "\n",
       "    .dataframe tbody tr th {\n",
       "        vertical-align: top;\n",
       "    }\n",
       "\n",
       "    .dataframe thead th {\n",
       "        text-align: right;\n",
       "    }\n",
       "</style>\n",
       "<table border=\"1\" class=\"dataframe\">\n",
       "  <thead>\n",
       "    <tr style=\"text-align: right;\">\n",
       "      <th></th>\n",
       "      <th>Entry</th>\n",
       "      <th>Reviewed</th>\n",
       "      <th>Gene Ontology IDs</th>\n",
       "      <th>Sequence</th>\n",
       "    </tr>\n",
       "  </thead>\n",
       "  <tbody>\n",
       "    <tr>\n",
       "      <th>0</th>\n",
       "      <td>A0A087X1C5</td>\n",
       "      <td>reviewed</td>\n",
       "      <td>GO:0005506; GO:0005737; GO:0005739; GO:0006805...</td>\n",
       "      <td>MGLEALVPLAMIVAIFLLLVDLMHRHQRWAARYPPGPLPLPGLGNL...</td>\n",
       "    </tr>\n",
       "    <tr>\n",
       "      <th>1</th>\n",
       "      <td>A0A0B4J2F0</td>\n",
       "      <td>reviewed</td>\n",
       "      <td>GO:0005741; GO:0006986; GO:1900101</td>\n",
       "      <td>MFRRLTFAQLLFATVLGIAGGVYIFQPVFEQYAKDQKELKEKMQLV...</td>\n",
       "    </tr>\n",
       "    <tr>\n",
       "      <th>2</th>\n",
       "      <td>A0A0B4J2F2</td>\n",
       "      <td>reviewed</td>\n",
       "      <td>GO:0000287; GO:0004674; GO:0005524; GO:0005634...</td>\n",
       "      <td>MVIMSEFSADPAGQGQGQQKPLRVGFYDIERTLGKGNFAVVKLARH...</td>\n",
       "    </tr>\n",
       "    <tr>\n",
       "      <th>3</th>\n",
       "      <td>A0A0C5B5G6</td>\n",
       "      <td>reviewed</td>\n",
       "      <td>GO:0001649; GO:0003677; GO:0005615; GO:0005634...</td>\n",
       "      <td>MRWQEMGYIFYPRKLR</td>\n",
       "    </tr>\n",
       "    <tr>\n",
       "      <th>4</th>\n",
       "      <td>A0A0K2S4Q6</td>\n",
       "      <td>reviewed</td>\n",
       "      <td>GO:0004888; GO:0005576; GO:0005886; GO:0030593</td>\n",
       "      <td>MTQRAGAAMLPSALLLLCVPGCLTVSGPSTVMGAVGESLSVQCRYE...</td>\n",
       "    </tr>\n",
       "  </tbody>\n",
       "</table>\n",
       "</div>"
      ],
      "text/plain": [
       "        Entry  Reviewed                                  Gene Ontology IDs  \\\n",
       "0  A0A087X1C5  reviewed  GO:0005506; GO:0005737; GO:0005739; GO:0006805...   \n",
       "1  A0A0B4J2F0  reviewed                 GO:0005741; GO:0006986; GO:1900101   \n",
       "2  A0A0B4J2F2  reviewed  GO:0000287; GO:0004674; GO:0005524; GO:0005634...   \n",
       "3  A0A0C5B5G6  reviewed  GO:0001649; GO:0003677; GO:0005615; GO:0005634...   \n",
       "4  A0A0K2S4Q6  reviewed     GO:0004888; GO:0005576; GO:0005886; GO:0030593   \n",
       "\n",
       "                                            Sequence  \n",
       "0  MGLEALVPLAMIVAIFLLLVDLMHRHQRWAARYPPGPLPLPGLGNL...  \n",
       "1  MFRRLTFAQLLFATVLGIAGGVYIFQPVFEQYAKDQKELKEKMQLV...  \n",
       "2  MVIMSEFSADPAGQGQGQQKPLRVGFYDIERTLGKGNFAVVKLARH...  \n",
       "3                                   MRWQEMGYIFYPRKLR  \n",
       "4  MTQRAGAAMLPSALLLLCVPGCLTVSGPSTVMGAVGESLSVQCRYE...  "
      ]
     },
     "execution_count": 5,
     "metadata": {},
     "output_type": "execute_result"
    }
   ],
   "source": [
    "sequence_terms_df = pd.read_csv(\"../data/uniprot/uniprotkb_sequence_and_go_terms.tsv\", sep=\"\\t\")\n",
    "\n",
    "sequence_terms_df.head()"
   ]
  },
  {
   "cell_type": "code",
   "execution_count": 6,
   "id": "7f041346-f9af-4c7a-b6b7-c5816d5453c3",
   "metadata": {},
   "outputs": [
    {
     "data": {
      "text/html": [
       "<div>\n",
       "<style scoped>\n",
       "    .dataframe tbody tr th:only-of-type {\n",
       "        vertical-align: middle;\n",
       "    }\n",
       "\n",
       "    .dataframe tbody tr th {\n",
       "        vertical-align: top;\n",
       "    }\n",
       "\n",
       "    .dataframe thead th {\n",
       "        text-align: right;\n",
       "    }\n",
       "</style>\n",
       "<table border=\"1\" class=\"dataframe\">\n",
       "  <thead>\n",
       "    <tr style=\"text-align: right;\">\n",
       "      <th></th>\n",
       "      <th>id</th>\n",
       "      <th>value</th>\n",
       "    </tr>\n",
       "  </thead>\n",
       "  <tbody>\n",
       "    <tr>\n",
       "      <th>0</th>\n",
       "      <td>GO:0000967</td>\n",
       "      <td>biological_process rRNA 5'-end processing</td>\n",
       "    </tr>\n",
       "    <tr>\n",
       "      <th>1</th>\n",
       "      <td>GO:0001646</td>\n",
       "      <td>molecular_function cAMP receptor activity</td>\n",
       "    </tr>\n",
       "    <tr>\n",
       "      <th>2</th>\n",
       "      <td>GO:0001765</td>\n",
       "      <td>biological_process membrane raft assembly</td>\n",
       "    </tr>\n",
       "    <tr>\n",
       "      <th>3</th>\n",
       "      <td>GO:0001916</td>\n",
       "      <td>biological_process positive regulation of T ce...</td>\n",
       "    </tr>\n",
       "    <tr>\n",
       "      <th>4</th>\n",
       "      <td>GO:0001993</td>\n",
       "      <td>biological_process regulation of systemic arte...</td>\n",
       "    </tr>\n",
       "  </tbody>\n",
       "</table>\n",
       "</div>"
      ],
      "text/plain": [
       "           id                                              value\n",
       "0  GO:0000967          biological_process rRNA 5'-end processing\n",
       "1  GO:0001646          molecular_function cAMP receptor activity\n",
       "2  GO:0001765          biological_process membrane raft assembly\n",
       "3  GO:0001916  biological_process positive regulation of T ce...\n",
       "4  GO:0001993  biological_process regulation of systemic arte..."
      ]
     },
     "execution_count": 6,
     "metadata": {},
     "output_type": "execute_result"
    }
   ],
   "source": [
    "term_name_df = pd.read_csv(\"../data/go_term_name_dataset.tsv.csv\", sep=\"\\t\")\n",
    "\n",
    "term_name_df.head()"
   ]
  },
  {
   "cell_type": "code",
   "execution_count": 10,
   "id": "b3cc0ba1-4393-4d25-97ff-7346a41bf8fe",
   "metadata": {},
   "outputs": [],
   "source": [
    "term_name_dict = {}"
   ]
  },
  {
   "cell_type": "code",
   "execution_count": 11,
   "id": "73e4d002-ab09-454a-882f-ca20e3a01a93",
   "metadata": {},
   "outputs": [
    {
     "data": {
      "application/vnd.jupyter.widget-view+json": {
       "model_id": "df6777681397495e882f7d96b7a08ea6",
       "version_major": 2,
       "version_minor": 0
      },
      "text/plain": [
       "  0%|          | 0/42769 [00:00<?, ?it/s]"
      ]
     },
     "metadata": {},
     "output_type": "display_data"
    }
   ],
   "source": [
    "for idx, row in tqdm(term_name_df.iterrows(), total=len(term_name_df)):\n",
    "    term_name_dict[row['id']] = row['value']"
   ]
  },
  {
   "cell_type": "code",
   "execution_count": 12,
   "id": "0f04b370-0515-4500-8ba6-c0322a17c04c",
   "metadata": {},
   "outputs": [],
   "source": [
    "sequence_terms_df[\"Len\"] = sequence_terms_df[\"Sequence\"].map(len)"
   ]
  },
  {
   "cell_type": "code",
   "execution_count": 13,
   "id": "a9729f05-c1be-4560-ae66-6b4129b19b27",
   "metadata": {},
   "outputs": [
    {
     "data": {
      "text/html": [
       "<div>\n",
       "<style scoped>\n",
       "    .dataframe tbody tr th:only-of-type {\n",
       "        vertical-align: middle;\n",
       "    }\n",
       "\n",
       "    .dataframe tbody tr th {\n",
       "        vertical-align: top;\n",
       "    }\n",
       "\n",
       "    .dataframe thead th {\n",
       "        text-align: right;\n",
       "    }\n",
       "</style>\n",
       "<table border=\"1\" class=\"dataframe\">\n",
       "  <thead>\n",
       "    <tr style=\"text-align: right;\">\n",
       "      <th></th>\n",
       "      <th>Entry</th>\n",
       "      <th>Reviewed</th>\n",
       "      <th>Gene Ontology IDs</th>\n",
       "      <th>Sequence</th>\n",
       "      <th>Len</th>\n",
       "    </tr>\n",
       "  </thead>\n",
       "  <tbody>\n",
       "    <tr>\n",
       "      <th>1</th>\n",
       "      <td>A0A0B4J2F0</td>\n",
       "      <td>reviewed</td>\n",
       "      <td>GO:0005741; GO:0006986; GO:1900101</td>\n",
       "      <td>MFRRLTFAQLLFATVLGIAGGVYIFQPVFEQYAKDQKELKEKMQLV...</td>\n",
       "      <td>54</td>\n",
       "    </tr>\n",
       "    <tr>\n",
       "      <th>3</th>\n",
       "      <td>A0A0C5B5G6</td>\n",
       "      <td>reviewed</td>\n",
       "      <td>GO:0001649; GO:0003677; GO:0005615; GO:0005634...</td>\n",
       "      <td>MRWQEMGYIFYPRKLR</td>\n",
       "      <td>16</td>\n",
       "    </tr>\n",
       "    <tr>\n",
       "      <th>4</th>\n",
       "      <td>A0A0K2S4Q6</td>\n",
       "      <td>reviewed</td>\n",
       "      <td>GO:0004888; GO:0005576; GO:0005886; GO:0030593</td>\n",
       "      <td>MTQRAGAAMLPSALLLLCVPGCLTVSGPSTVMGAVGESLSVQCRYE...</td>\n",
       "      <td>201</td>\n",
       "    </tr>\n",
       "    <tr>\n",
       "      <th>5</th>\n",
       "      <td>A0A0U1RRE5</td>\n",
       "      <td>reviewed</td>\n",
       "      <td>GO:0000932; GO:0000956; GO:0006397; GO:0010607</td>\n",
       "      <td>MGDQPCASGRSTLPPGNAREAKPPKKRCLLAPRWDYPEGTPNGGST...</td>\n",
       "      <td>68</td>\n",
       "    </tr>\n",
       "    <tr>\n",
       "      <th>10</th>\n",
       "      <td>A0AVI4</td>\n",
       "      <td>reviewed</td>\n",
       "      <td>GO:0000209; GO:0005783; GO:0005789; GO:0006986...</td>\n",
       "      <td>MDSPEVTFTLAYLVFAVCFVFTPNEFHAAGLTVQNLLSGWLGSEDA...</td>\n",
       "      <td>362</td>\n",
       "    </tr>\n",
       "  </tbody>\n",
       "</table>\n",
       "</div>"
      ],
      "text/plain": [
       "         Entry  Reviewed                                  Gene Ontology IDs  \\\n",
       "1   A0A0B4J2F0  reviewed                 GO:0005741; GO:0006986; GO:1900101   \n",
       "3   A0A0C5B5G6  reviewed  GO:0001649; GO:0003677; GO:0005615; GO:0005634...   \n",
       "4   A0A0K2S4Q6  reviewed     GO:0004888; GO:0005576; GO:0005886; GO:0030593   \n",
       "5   A0A0U1RRE5  reviewed     GO:0000932; GO:0000956; GO:0006397; GO:0010607   \n",
       "10      A0AVI4  reviewed  GO:0000209; GO:0005783; GO:0005789; GO:0006986...   \n",
       "\n",
       "                                             Sequence  Len  \n",
       "1   MFRRLTFAQLLFATVLGIAGGVYIFQPVFEQYAKDQKELKEKMQLV...   54  \n",
       "3                                    MRWQEMGYIFYPRKLR   16  \n",
       "4   MTQRAGAAMLPSALLLLCVPGCLTVSGPSTVMGAVGESLSVQCRYE...  201  \n",
       "5   MGDQPCASGRSTLPPGNAREAKPPKKRCLLAPRWDYPEGTPNGGST...   68  \n",
       "10  MDSPEVTFTLAYLVFAVCFVFTPNEFHAAGLTVQNLLSGWLGSEDA...  362  "
      ]
     },
     "execution_count": 13,
     "metadata": {},
     "output_type": "execute_result"
    }
   ],
   "source": [
    "sequence_terms_df1 = sequence_terms_df[sequence_terms_df[\"Len\"] <= 512]\n",
    "\n",
    "sequence_terms_df1.head()"
   ]
  },
  {
   "cell_type": "code",
   "execution_count": 14,
   "id": "98d1c3cc-54d5-41e9-8ae0-94eb7b6d4955",
   "metadata": {},
   "outputs": [
    {
     "data": {
      "text/plain": [
       "(12663, 5)"
      ]
     },
     "execution_count": 14,
     "metadata": {},
     "output_type": "execute_result"
    }
   ],
   "source": [
    "sequence_terms_df1.shape"
   ]
  },
  {
   "cell_type": "code",
   "execution_count": 24,
   "id": "dd66a441-7e24-4d1f-a2bd-ad234b3b2958",
   "metadata": {},
   "outputs": [
    {
     "data": {
      "text/plain": [
       "(11764, 5)"
      ]
     },
     "execution_count": 24,
     "metadata": {},
     "output_type": "execute_result"
    }
   ],
   "source": [
    "sequence_terms_df2 = sequence_terms_df1.dropna()\n",
    "\n",
    "sequence_terms_df2.shape"
   ]
  },
  {
   "cell_type": "code",
   "execution_count": 29,
   "id": "9fc7770e-2b2f-4b2a-aa46-23638e12f34b",
   "metadata": {},
   "outputs": [],
   "source": [
    "dataset = {\n",
    "    \"Sequence\": [],\n",
    "    \"Annotation\": []\n",
    "}"
   ]
  },
  {
   "cell_type": "code",
   "execution_count": 30,
   "id": "7c324dc7-4601-4e9a-af2c-aa4febd66451",
   "metadata": {},
   "outputs": [
    {
     "data": {
      "application/vnd.jupyter.widget-view+json": {
       "model_id": "57cbf8295b684aae89c075594e6404ca",
       "version_major": 2,
       "version_minor": 0
      },
      "text/plain": [
       "  0%|          | 0/11764 [00:00<?, ?it/s]"
      ]
     },
     "metadata": {},
     "output_type": "display_data"
    }
   ],
   "source": [
    "for idx, row in tqdm(sequence_terms_df2.iterrows(), total=len(sequence_terms_df2)):\n",
    "    terms = list(map(lambda obj: obj.strip(), row[\"Gene Ontology IDs\"].split(\";\")))\n",
    "    sequence = row[\"Sequence\"]\n",
    "    for term in terms:\n",
    "        try:\n",
    "            annotation = term_name_dict[term]\n",
    "            dataset[\"Annotation\"].append(annotation)\n",
    "            dataset[\"Sequence\"].append(sequence)\n",
    "        except:\n",
    "            pass"
   ]
  },
  {
   "cell_type": "code",
   "execution_count": 31,
   "id": "5bb05aee-6ddf-4eec-bd04-9e78aa24153c",
   "metadata": {},
   "outputs": [
    {
     "data": {
      "text/html": [
       "<div>\n",
       "<style scoped>\n",
       "    .dataframe tbody tr th:only-of-type {\n",
       "        vertical-align: middle;\n",
       "    }\n",
       "\n",
       "    .dataframe tbody tr th {\n",
       "        vertical-align: top;\n",
       "    }\n",
       "\n",
       "    .dataframe thead th {\n",
       "        text-align: right;\n",
       "    }\n",
       "</style>\n",
       "<table border=\"1\" class=\"dataframe\">\n",
       "  <thead>\n",
       "    <tr style=\"text-align: right;\">\n",
       "      <th></th>\n",
       "      <th>Sequence</th>\n",
       "      <th>Annotation</th>\n",
       "    </tr>\n",
       "  </thead>\n",
       "  <tbody>\n",
       "    <tr>\n",
       "      <th>0</th>\n",
       "      <td>MFRRLTFAQLLFATVLGIAGGVYIFQPVFEQYAKDQKELKEKMQLV...</td>\n",
       "      <td>cellular_component mitochondrial outer membrane</td>\n",
       "    </tr>\n",
       "    <tr>\n",
       "      <th>1</th>\n",
       "      <td>MFRRLTFAQLLFATVLGIAGGVYIFQPVFEQYAKDQKELKEKMQLV...</td>\n",
       "      <td>biological_process response to unfolded protein</td>\n",
       "    </tr>\n",
       "    <tr>\n",
       "      <th>2</th>\n",
       "      <td>MFRRLTFAQLLFATVLGIAGGVYIFQPVFEQYAKDQKELKEKMQLV...</td>\n",
       "      <td>biological_process regulation of endoplasmic r...</td>\n",
       "    </tr>\n",
       "    <tr>\n",
       "      <th>3</th>\n",
       "      <td>MRWQEMGYIFYPRKLR</td>\n",
       "      <td>biological_process osteoblast differentiation</td>\n",
       "    </tr>\n",
       "    <tr>\n",
       "      <th>4</th>\n",
       "      <td>MRWQEMGYIFYPRKLR</td>\n",
       "      <td>molecular_function DNA binding</td>\n",
       "    </tr>\n",
       "  </tbody>\n",
       "</table>\n",
       "</div>"
      ],
      "text/plain": [
       "                                            Sequence  \\\n",
       "0  MFRRLTFAQLLFATVLGIAGGVYIFQPVFEQYAKDQKELKEKMQLV...   \n",
       "1  MFRRLTFAQLLFATVLGIAGGVYIFQPVFEQYAKDQKELKEKMQLV...   \n",
       "2  MFRRLTFAQLLFATVLGIAGGVYIFQPVFEQYAKDQKELKEKMQLV...   \n",
       "3                                   MRWQEMGYIFYPRKLR   \n",
       "4                                   MRWQEMGYIFYPRKLR   \n",
       "\n",
       "                                          Annotation  \n",
       "0    cellular_component mitochondrial outer membrane  \n",
       "1    biological_process response to unfolded protein  \n",
       "2  biological_process regulation of endoplasmic r...  \n",
       "3      biological_process osteoblast differentiation  \n",
       "4                     molecular_function DNA binding  "
      ]
     },
     "execution_count": 31,
     "metadata": {},
     "output_type": "execute_result"
    }
   ],
   "source": [
    "dataset_df = pd.DataFrame(dataset)\n",
    "\n",
    "dataset_df.head()"
   ]
  },
  {
   "cell_type": "code",
   "execution_count": 34,
   "id": "c0277f41-6753-45a5-ae5c-f2cca143a6d4",
   "metadata": {},
   "outputs": [
    {
     "data": {
      "text/plain": [
       "(147431, 2)"
      ]
     },
     "execution_count": 34,
     "metadata": {},
     "output_type": "execute_result"
    }
   ],
   "source": [
    "dataset_df.shape"
   ]
  },
  {
   "cell_type": "code",
   "execution_count": 35,
   "id": "6d5f5455-d991-495f-abeb-0ef0b32d5c05",
   "metadata": {},
   "outputs": [],
   "source": [
    "dataset_df.to_csv(\"../data/protein_go_annotation.tsv\", sep=\"\\t\", index=False)"
   ]
  },
  {
   "cell_type": "code",
   "execution_count": 33,
   "id": "78bdf19f-4031-4160-b312-565b7fceda50",
   "metadata": {},
   "outputs": [
    {
     "data": {
      "text/plain": [
       "Dataset({\n",
       "    features: ['Sequence', 'Annotation'],\n",
       "    num_rows: 147431\n",
       "})"
      ]
     },
     "execution_count": 33,
     "metadata": {},
     "output_type": "execute_result"
    }
   ],
   "source": []
  },
  {
   "cell_type": "code",
   "execution_count": null,
   "id": "209d9d61-37cf-4f30-b7c4-e5828d32be8d",
   "metadata": {},
   "outputs": [],
   "source": []
  }
 ],
 "metadata": {
  "kernelspec": {
   "display_name": "Python 3 (ipykernel)",
   "language": "python",
   "name": "python3"
  },
  "language_info": {
   "codemirror_mode": {
    "name": "ipython",
    "version": 3
   },
   "file_extension": ".py",
   "mimetype": "text/x-python",
   "name": "python",
   "nbconvert_exporter": "python",
   "pygments_lexer": "ipython3",
   "version": "3.11.5"
  }
 },
 "nbformat": 4,
 "nbformat_minor": 5
}
